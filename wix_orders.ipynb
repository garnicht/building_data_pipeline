{
 "cells": [
  {
   "cell_type": "markdown",
   "metadata": {},
   "source": [
    "# Stand Anomalie\n",
    "wie es scheint liegt das \"problem\" daran, wenn ein Kunde mehr Items im Warenkorb hat. Needs to be testet. Anomalie sorgt dafür, dass nach einer normalisierung es eine Reihe zu viel gibt. "
   ]
  },
  {
   "cell_type": "code",
   "execution_count": null,
   "metadata": {},
   "outputs": [],
   "source": [
    "import requests\n",
    "import pandas as pd\n",
    "from dotenv import load_dotenv \n",
    "import os \n",
    "from sql_functions import encrypt\n",
    "pd.set_option(\"display.max_columns\", None)\n",
    "pd.set_option(\"display.max_rows\", 20)\n"
   ]
  },
  {
   "cell_type": "code",
   "execution_count": null,
   "metadata": {},
   "outputs": [],
   "source": [
    "load_dotenv()"
   ]
  },
  {
   "cell_type": "code",
   "execution_count": null,
   "metadata": {},
   "outputs": [],
   "source": [
    "# Define the API endpoint, headers and used variables\n",
    "url = 'https://www.wixapis.com/stores/v2/orders/query'\n",
    "rows_offset = 0\n",
    "counter = [1]\n",
    "data = pd.DataFrame()\n",
    "wix_orders = pd.DataFrame()\n",
    "line_items = pd.DataFrame()\n",
    "headers = {\n",
    "    'Content-Type': 'application/json',\n",
    "    'Accept': 'application/json, text/plain, */*',\n",
    "    'Authorization': os.getenv(\"wix_api_key\"),\n",
    "    'wix-site-id': os.getenv(\"statistik_side_id\")  \n",
    "}\n",
    "\n",
    "for i in counter:\n",
    "    # Define the query payload as a dictionary\n",
    "    query_payload = {\n",
    "        \"query\": {\n",
    "            \"paging\": {\n",
    "                \"offset\": rows_offset\n",
    "            }\n",
    "        }\n",
    "    }\n",
    "\n",
    "    # Make an HTTP POST request\n",
    "    response = requests.post(url, json=query_payload, headers=headers)\n",
    "\n",
    "    # Check if the request was successful (status code 200)\n",
    "    if response.status_code == 200:\n",
    "        # Parse the JSON response\n",
    "        data = response.json()\n",
    "        data = data.get(\"orders\")\n",
    "\n",
    "        # Normalize and concatenate the wanted data\n",
    "        temp_line_items = pd.json_normalize(data, record_path= [\"lineItems\"], meta = [\"number\",\"id\"], sep=\"_\")\n",
    "        temporary_df = pd.json_normalize(data, sep=\"_\") \n",
    "        wix_orders = pd.concat([temporary_df,wix_orders])\n",
    "        line_items = pd.concat([temp_line_items,line_items])\n",
    "\n",
    "        # Set counter and offset\n",
    "        rows_offset += 100\n",
    "        counter.append(1)\n",
    "\n",
    "    else:\n",
    "        print(f\"Request failed with status code {response.status_code}: {response.text}\")\n",
    "        print(\"Or end of request. Check wix_orders's content\")\n",
    "        break\n",
    "    \n"
   ]
  },
  {
   "cell_type": "code",
   "execution_count": null,
   "metadata": {},
   "outputs": [],
   "source": [
    "#Encrypt Mails, billing and buyer mails are not the same. Also the columns with Mails are not deleted yet! \n",
    "encrypt(wix_orders,\"buyerInfo_email\")\n",
    "encrypt(wix_orders,\"billingInfo_address_email\")"
   ]
  },
  {
   "cell_type": "code",
   "execution_count": null,
   "metadata": {},
   "outputs": [],
   "source": [
    "# Drop personal data, all shipment columns and other unnecessary columns\n",
    "drop_list = [\"lineItems\", \"activities\", \"buyerInfo_firstName\", \"buyerInfo_lastName\", \"billingInfo_address_fullName_firstName\" , \"billingInfo_address_fullName_lastName\", \"billingInfo_address_subdivision\", \"billingInfo_address_zipCode\", \"billingInfo_address_city\" , \"billingInfo_address_street_number\" , \"billingInfo_address_street_name\" , \"buyerInfo_phone\" , \"billingInfo_address_phone\" , \"billingInfo_address_addressLine1\", \"shippingInfo_shippingRegion\", \"shippingInfo_code\" , \"shippingInfo_shipmentDetails_address_fullName_firstName\" , \"shippingInfo_shipmentDetails_priceData_price\", \"shippingInfo_shipmentDetails_priceData_taxIncludedInPrice\" , \"shippingInfo_shipmentDetails_tax\", \"shippingInfo_shipmentDetails_discount\" , \"shippingInfo_shipmentDetails_address_street_name\" , \"shippingInfo_shipmentDetails_address_street_number\" , \"shippingInfo_shipmentDetails_address_email\" , \"shippingInfo_shipmentDetails_address_phone\" , \"shippingInfo_shipmentDetails_address_zipCode\" , \"shippingInfo_shipmentDetails_address_city\" , \"shippingInfo_shipmentDetails_address_subdivision\" , \"shippingInfo_shipmentDetails_address_country\" , \"shippingInfo_shipmentDetails_address_fullName_lastName\" , \"shippingInfo_deliveryOption\", \"buyerInfo_email\", \"billingInfo_address_email\"]\n",
    "wix_orders.drop(columns=drop_list, inplace=True)"
   ]
  },
  {
   "cell_type": "code",
   "execution_count": null,
   "metadata": {},
   "outputs": [],
   "source": [
    "wix_orders.reset_index(drop=True, inplace=True)\n",
    "line_items.reset_index(drop=True, inplace=True)"
   ]
  },
  {
   "cell_type": "code",
   "execution_count": null,
   "metadata": {},
   "outputs": [],
   "source": [
    "wix_orders[730:]"
   ]
  },
  {
   "cell_type": "code",
   "execution_count": null,
   "metadata": {},
   "outputs": [],
   "source": [
    "line_items.to_csv(\"data/line_items.csv\")"
   ]
  },
  {
   "cell_type": "code",
   "execution_count": null,
   "metadata": {},
   "outputs": [],
   "source": [
    "wix_orders.to_csv(\"data/wix_orders.csv\")"
   ]
  },
  {
   "cell_type": "code",
   "execution_count": null,
   "metadata": {},
   "outputs": [],
   "source": [
    "# normalize column lineitems und joinen\n",
    "lineItems = pd.json_normalize(data, record_path='lineItems', sep=\"_\")\n",
    "all_data = pd.concat([wix_orders,lineItems], axis=1)\n",
    "all_data.drop(columns=\"lineItems\", inplace=True)"
   ]
  },
  {
   "cell_type": "code",
   "execution_count": null,
   "metadata": {},
   "outputs": [],
   "source": [
    "all_data.to_csv(\"data/all_data.csv\")"
   ]
  },
  {
   "cell_type": "code",
   "execution_count": null,
   "metadata": {},
   "outputs": [],
   "source": [
    "#column activities normalisiert, kann auch geadded werden, sprengt jedoch die Datenreihen\n",
    "activities_df = pd.json_normalize(data, record_path='activities')\n",
    "activities_df.to_csv(\"data/activities_df.csv\")"
   ]
  }
 ],
 "metadata": {
  "kernelspec": {
   "display_name": "jules_base",
   "language": "python",
   "name": "python3"
  },
  "language_info": {
   "codemirror_mode": {
    "name": "ipython",
    "version": 3
   },
   "file_extension": ".py",
   "mimetype": "text/x-python",
   "name": "python",
   "nbconvert_exporter": "python",
   "pygments_lexer": "ipython3",
   "version": "3.11.4"
  },
  "orig_nbformat": 4
 },
 "nbformat": 4,
 "nbformat_minor": 2
}

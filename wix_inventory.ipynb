{
 "cells": [
  {
   "cell_type": "code",
   "execution_count": 1,
   "metadata": {},
   "outputs": [],
   "source": [
    "import requests\n",
    "import pandas as pd\n",
    "from dotenv import load_dotenv \n",
    "import os \n",
    "from sql_functions import encrypt\n",
    "pd.set_option(\"display.max_columns\", None)\n",
    "pd.set_option(\"display.max_rows\", 20)\n"
   ]
  },
  {
   "cell_type": "code",
   "execution_count": 2,
   "metadata": {},
   "outputs": [
    {
     "name": "stderr",
     "output_type": "stream",
     "text": [
      "Python-dotenv could not parse statement starting at line 9\n"
     ]
    },
    {
     "data": {
      "text/plain": [
       "True"
      ]
     },
     "execution_count": 2,
     "metadata": {},
     "output_type": "execute_result"
    }
   ],
   "source": [
    "load_dotenv()"
   ]
  },
  {
   "cell_type": "code",
   "execution_count": 6,
   "metadata": {},
   "outputs": [
    {
     "name": "stdout",
     "output_type": "stream",
     "text": [
      "Request failed with status code 400: {\"message\":\"Illegal query offset and limit values. Offset + limit must be less than or equal to 10000. Requested offset: 10000, requested limit: 100\",\"details\":{\"validationError\":{\"fieldViolations\":[{\"field\":\"Paging\",\"description\":\"Illegal query offset and limit values. Offset + limit must be less than or equal to 10000. Requested offset: 10000, requested limit: 100\",\"violatedRule\":\"OTHER\",\"ruleName\":\"IllegalQueryOffsetAndLimitSum\"}]}}}\n",
      "Or end of request. Check wix_orders's content\n"
     ]
    }
   ],
   "source": [
    "# Define the API endpoint, headers and used variables\n",
    "url = 'https://www.wixapis.com/stores/v2/inventoryItems/query'\n",
    "rows_offset = 0\n",
    "counter = [1]\n",
    "data = pd.DataFrame()\n",
    "inventory_df = pd.DataFrame()\n",
    "headers = {\n",
    "    'Content-Type': 'application/json',\n",
    "    'Accept': 'application/json, text/plain, */*',\n",
    "    'Authorization': os.getenv(\"wix_api_key\"),\n",
    "    'wix-site-id': os.getenv(\"statistik_side_id\")  \n",
    "}\n",
    "\n",
    "for i in counter:\n",
    "    # Define the query payload as a dictionary\n",
    "    query_payload = {\n",
    "        \"query\": {\n",
    "            \"paging\": {\n",
    "                \"offset\": rows_offset\n",
    "            }\n",
    "        }\n",
    "    }\n",
    "\n",
    "    # Make an HTTP POST request\n",
    "    response = requests.post(url, json=query_payload, headers=headers)\n",
    "\n",
    "    # Check if the request was successful (status code 200)\n",
    "    if response.status_code == 200:\n",
    "        # Parse the JSON response\n",
    "        data = response.json()\n",
    "        data = data.get(\"inventoryItems\")\n",
    "\n",
    "        # Normalize and concatenate the wanted data\n",
    "        temporary_df = pd.json_normalize(data, sep=\"_\") \n",
    "        inventory_df = pd.concat([temporary_df,inventory_df])\n",
    "\n",
    "        # Set counter and offset\n",
    "        rows_offset += 100\n",
    "        counter.append(1)\n",
    "\n",
    "    else:\n",
    "        print(f\"Request failed with status code {response.status_code}: {response.text}\")\n",
    "        print(\"Or end of request. Check wix_orders's content\")\n",
    "        break\n",
    "    \n"
   ]
  },
  {
   "cell_type": "code",
   "execution_count": null,
   "metadata": {},
   "outputs": [],
   "source": [
    "inventory_df"
   ]
  },
  {
   "cell_type": "code",
   "execution_count": 12,
   "metadata": {},
   "outputs": [
    {
     "data": {
      "text/html": [
       "<div>\n",
       "<style scoped>\n",
       "    .dataframe tbody tr th:only-of-type {\n",
       "        vertical-align: middle;\n",
       "    }\n",
       "\n",
       "    .dataframe tbody tr th {\n",
       "        vertical-align: top;\n",
       "    }\n",
       "\n",
       "    .dataframe thead th {\n",
       "        text-align: right;\n",
       "    }\n",
       "</style>\n",
       "<table border=\"1\" class=\"dataframe\">\n",
       "  <thead>\n",
       "    <tr style=\"text-align: right;\">\n",
       "      <th></th>\n",
       "      <th>variantId</th>\n",
       "      <th>inStock</th>\n",
       "      <th>availableForPreorder</th>\n",
       "      <th>quantity</th>\n",
       "    </tr>\n",
       "  </thead>\n",
       "  <tbody>\n",
       "    <tr>\n",
       "      <th>0</th>\n",
       "      <td>00000000-0000-0000-0000-000000000000</td>\n",
       "      <td>True</td>\n",
       "      <td>False</td>\n",
       "      <td>NaN</td>\n",
       "    </tr>\n",
       "    <tr>\n",
       "      <th>1</th>\n",
       "      <td>00000000-0000-0000-0000-000000000000</td>\n",
       "      <td>True</td>\n",
       "      <td>False</td>\n",
       "      <td>NaN</td>\n",
       "    </tr>\n",
       "    <tr>\n",
       "      <th>2</th>\n",
       "      <td>00000000-0000-0000-0000-000000000000</td>\n",
       "      <td>True</td>\n",
       "      <td>False</td>\n",
       "      <td>NaN</td>\n",
       "    </tr>\n",
       "    <tr>\n",
       "      <th>3</th>\n",
       "      <td>00000000-0000-0000-0000-000000000000</td>\n",
       "      <td>True</td>\n",
       "      <td>False</td>\n",
       "      <td>NaN</td>\n",
       "    </tr>\n",
       "    <tr>\n",
       "      <th>4</th>\n",
       "      <td>00000000-0000-0000-0000-000000000000</td>\n",
       "      <td>True</td>\n",
       "      <td>False</td>\n",
       "      <td>NaN</td>\n",
       "    </tr>\n",
       "    <tr>\n",
       "      <th>...</th>\n",
       "      <td>...</td>\n",
       "      <td>...</td>\n",
       "      <td>...</td>\n",
       "      <td>...</td>\n",
       "    </tr>\n",
       "    <tr>\n",
       "      <th>167</th>\n",
       "      <td>00000000-0000-0000-0000-000000000000</td>\n",
       "      <td>True</td>\n",
       "      <td>False</td>\n",
       "      <td>NaN</td>\n",
       "    </tr>\n",
       "    <tr>\n",
       "      <th>168</th>\n",
       "      <td>00000000-0000-0000-0000-000000000000</td>\n",
       "      <td>True</td>\n",
       "      <td>False</td>\n",
       "      <td>NaN</td>\n",
       "    </tr>\n",
       "    <tr>\n",
       "      <th>169</th>\n",
       "      <td>00000000-0000-0000-0000-000000000000</td>\n",
       "      <td>True</td>\n",
       "      <td>False</td>\n",
       "      <td>NaN</td>\n",
       "    </tr>\n",
       "    <tr>\n",
       "      <th>170</th>\n",
       "      <td>00000000-0000-0000-0000-000000000000</td>\n",
       "      <td>True</td>\n",
       "      <td>False</td>\n",
       "      <td>NaN</td>\n",
       "    </tr>\n",
       "    <tr>\n",
       "      <th>171</th>\n",
       "      <td>00000000-0000-0000-0000-000000000000</td>\n",
       "      <td>True</td>\n",
       "      <td>False</td>\n",
       "      <td>NaN</td>\n",
       "    </tr>\n",
       "  </tbody>\n",
       "</table>\n",
       "<p>172 rows × 4 columns</p>\n",
       "</div>"
      ],
      "text/plain": [
       "                                variantId  inStock  availableForPreorder  \\\n",
       "0    00000000-0000-0000-0000-000000000000     True                 False   \n",
       "1    00000000-0000-0000-0000-000000000000     True                 False   \n",
       "2    00000000-0000-0000-0000-000000000000     True                 False   \n",
       "3    00000000-0000-0000-0000-000000000000     True                 False   \n",
       "4    00000000-0000-0000-0000-000000000000     True                 False   \n",
       "..                                    ...      ...                   ...   \n",
       "167  00000000-0000-0000-0000-000000000000     True                 False   \n",
       "168  00000000-0000-0000-0000-000000000000     True                 False   \n",
       "169  00000000-0000-0000-0000-000000000000     True                 False   \n",
       "170  00000000-0000-0000-0000-000000000000     True                 False   \n",
       "171  00000000-0000-0000-0000-000000000000     True                 False   \n",
       "\n",
       "     quantity  \n",
       "0         NaN  \n",
       "1         NaN  \n",
       "2         NaN  \n",
       "3         NaN  \n",
       "4         NaN  \n",
       "..        ...  \n",
       "167       NaN  \n",
       "168       NaN  \n",
       "169       NaN  \n",
       "170       NaN  \n",
       "171       NaN  \n",
       "\n",
       "[172 rows x 4 columns]"
      ]
     },
     "execution_count": 12,
     "metadata": {},
     "output_type": "execute_result"
    }
   ],
   "source": [
    "testerei = inventory_df[\"variants\"].explode()\n",
    "testerei = pd.json_normalize(testerei, sep=\"_\")\n",
    "testerei"
   ]
  }
 ],
 "metadata": {
  "kernelspec": {
   "display_name": "jules_base",
   "language": "python",
   "name": "python3"
  },
  "language_info": {
   "codemirror_mode": {
    "name": "ipython",
    "version": 3
   },
   "file_extension": ".py",
   "mimetype": "text/x-python",
   "name": "python",
   "nbconvert_exporter": "python",
   "pygments_lexer": "ipython3",
   "version": "3.11.4"
  }
 },
 "nbformat": 4,
 "nbformat_minor": 2
}

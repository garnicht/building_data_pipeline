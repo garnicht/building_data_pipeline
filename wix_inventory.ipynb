{
 "cells": [
  {
   "cell_type": "code",
   "execution_count": null,
   "metadata": {},
   "outputs": [],
   "source": [
    "import requests\n",
    "import pandas as pd\n",
    "from dotenv import load_dotenv \n",
    "import os \n",
    "from sql_functions import encrypt\n",
    "pd.set_option(\"display.max_columns\", None)\n",
    "pd.set_option(\"display.max_rows\", 20)\n"
   ]
  },
  {
   "cell_type": "code",
   "execution_count": null,
   "metadata": {},
   "outputs": [],
   "source": [
    "load_dotenv()"
   ]
  },
  {
   "cell_type": "code",
   "execution_count": null,
   "metadata": {},
   "outputs": [],
   "source": [
    "# Define the API endpoint, headers and used variables\n",
    "url = 'https://www.wixapis.com/stores/v2/inventoryItems/query'\n",
    "rows_offset = 0\n",
    "counter = [1]\n",
    "data = pd.DataFrame()\n",
    "inventory_df = pd.DataFrame()\n",
    "headers = {\n",
    "    'Content-Type': 'application/json',\n",
    "    'Accept': 'application/json, text/plain, */*',\n",
    "    'Authorization': os.getenv(\"wix_api_key\"),\n",
    "    'wix-site-id': os.getenv(\"statistik_side_id\")  \n",
    "}\n",
    "\n",
    "for i in counter:\n",
    "    # Define the query payload as a dictionary\n",
    "    query_payload = {\n",
    "        \"query\": {\n",
    "            \"paging\": {\n",
    "                \"offset\": rows_offset\n",
    "            }\n",
    "        }\n",
    "    }\n",
    "\n",
    "    # Make an HTTP POST request\n",
    "    response = requests.post(url, json=query_payload, headers=headers)\n",
    "\n",
    "    # Check if the request was successful (status code 200)\n",
    "    if response.status_code == 200:\n",
    "        # Parse the JSON response\n",
    "        data = response.json()\n",
    "        data = data.get(\"inventoryItems\")\n",
    "\n",
    "        # Normalize and concatenate the wanted data\n",
    "        temporary_df = pd.json_normalize(data, sep=\"_\") \n",
    "        inventory_df = pd.concat([temporary_df,inventory_df])\n",
    "\n",
    "        # Set counter and offset\n",
    "        rows_offset += 100\n",
    "        counter.append(1)\n",
    "\n",
    "    else:\n",
    "        print(f\"Request failed with status code {response.status_code}: {response.text}\")\n",
    "        print(\"Or end of request. Check wix_orders's content\")\n",
    "        break\n",
    "    \n"
   ]
  },
  {
   "cell_type": "code",
   "execution_count": null,
   "metadata": {},
   "outputs": [],
   "source": [
    "inventory_df"
   ]
  },
  {
   "cell_type": "code",
   "execution_count": null,
   "metadata": {},
   "outputs": [],
   "source": [
    "testerei = inventory_df[\"variants\"].explode()\n",
    "testerei = pd.json_normalize(testerei, sep=\"_\")\n",
    "testerei"
   ]
  }
 ],
 "metadata": {
  "kernelspec": {
   "display_name": "jules_base",
   "language": "python",
   "name": "python3"
  },
  "language_info": {
   "codemirror_mode": {
    "name": "ipython",
    "version": 3
   },
   "file_extension": ".py",
   "mimetype": "text/x-python",
   "name": "python",
   "nbconvert_exporter": "python",
   "pygments_lexer": "ipython3",
   "version": "3.11.4"
  }
 },
 "nbformat": 4,
 "nbformat_minor": 2
}

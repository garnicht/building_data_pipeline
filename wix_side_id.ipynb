{
 "cells": [
  {
   "cell_type": "code",
   "execution_count": null,
   "metadata": {},
   "outputs": [],
   "source": [
    "import requests\n",
    "import pandas as pd\n",
    "import os \n",
    "from dotenv import load_dotenv"
   ]
  },
  {
   "cell_type": "code",
   "execution_count": null,
   "metadata": {},
   "outputs": [],
   "source": [
    "load_dotenv()"
   ]
  },
  {
   "cell_type": "code",
   "execution_count": null,
   "metadata": {},
   "outputs": [],
   "source": [
    "# Define the API endpoint and headers\n",
    "url = 'https://www.wixapis.com/site-list/v2/sites/query'\n",
    "headers = {\n",
    "    'Content-Type': 'application/json',\n",
    "    'Accept': 'application/json, text/plain, */*',\n",
    "    'Authorization': os.getenv(\"wix_api_key\"),  \n",
    "    'wix-account-id': os.getenv(\"wix_account_id\") \n",
    "}\n",
    "\n",
    "# Define the query payload as a dictionary\n",
    "query_payload = {\n",
    "    \"query\": {\n",
    "        \"filter\": {\"editorType\": \"EDITOR\"},\n",
    "        \"sort\": [{\"fieldName\": \"createdDate\", \"order\": \"ASC\"}],\n",
    "        \"cursorPaging\": {\"limit\": 10}\n",
    "    }\n",
    "}\n",
    "\n",
    "# Make an HTTP POST request\n",
    "response = requests.post(url, json=query_payload, headers=headers)\n",
    "\n",
    "# Check if the request was successful (status code 200)\n",
    "if response.status_code == 200:\n",
    "    # Parse the JSON response\n",
    "    data = response.json()\n",
    "    \n",
    "    # Print the formatted JSON using pandas\n",
    "    df = pd.json_normalize(data)\n",
    "    print(df.to_json(indent=4))\n",
    "else:\n",
    "    print(f\"Request failed with status code {response.status_code}: {response.text}\")\n"
   ]
  }
 ],
 "metadata": {
  "kernelspec": {
   "display_name": "jules_base",
   "language": "python",
   "name": "python3"
  },
  "language_info": {
   "codemirror_mode": {
    "name": "ipython",
    "version": 3
   },
   "file_extension": ".py",
   "mimetype": "text/x-python",
   "name": "python",
   "nbconvert_exporter": "python",
   "pygments_lexer": "ipython3",
   "version": "3.11.4"
  },
  "orig_nbformat": 4
 },
 "nbformat": 4,
 "nbformat_minor": 2
}
